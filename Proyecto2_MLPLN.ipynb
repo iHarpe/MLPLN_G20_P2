{
 "cells": [
  {
   "cell_type": "code",
   "execution_count": 1,
   "id": "41d98e0b-581e-4a78-a1c3-6e15730fad70",
   "metadata": {},
   "outputs": [],
   "source": [
    "import pandas as pd\n",
    "import numpy as np\n",
    "import matplotlib.pyplot as plt\n",
    "import matplotlib_inline"
   ]
  },
  {
   "cell_type": "code",
   "execution_count": 2,
   "id": "c0f924d4-9c27-4abb-bfc0-fde4744ef0e0",
   "metadata": {},
   "outputs": [],
   "source": [
    "train_data = pd.read_csv('./dataTraining.csv')\n",
    "test_data = pd.read_csv('./dataTesting.csv')"
   ]
  },
  {
   "cell_type": "code",
   "execution_count": 3,
   "id": "c20ea8d5-d8a2-4afe-b369-1a3163456755",
   "metadata": {},
   "outputs": [],
   "source": [
    "train_data_f = train_data.drop(columns=['Unnamed: 0', 'rating', 'genres'])\n",
    "test_data['longitud_trama'] = test_data['plot'].str.len()\n",
    "train_data_f['generos'] = train_data['genres'].str.strip('[]').str.replace(\"'\",\"\").str.replace(\" \",\"\").str.split(',')"
   ]
  },
  {
   "cell_type": "code",
   "execution_count": 4,
   "id": "fd993b9e-d386-4c6a-9037-61e0a3d314d8",
   "metadata": {},
   "outputs": [],
   "source": [
    "import nltk\n",
    "from sklearn.feature_extraction.text import CountVectorizer, TfidfVectorizer\n",
    "import pandas as pd\n",
    "from nltk.corpus import stopwords"
   ]
  },
  {
   "cell_type": "code",
   "execution_count": 5,
   "id": "5a71f87a-44e5-4e4b-b2bb-a8c154084aaf",
   "metadata": {},
   "outputs": [
    {
     "name": "stderr",
     "output_type": "stream",
     "text": [
      "[nltk_data] Downloading package stopwords to C:\\Users\\Dell\n",
      "[nltk_data]     G15\\AppData\\Roaming\\nltk_data...\n",
      "[nltk_data]   Package stopwords is already up-to-date!\n"
     ]
    }
   ],
   "source": [
    "nltk.download('stopwords')\n",
    "\n",
    "stopwords_es = list(stopwords.words('spanish'))\n",
    "stopwords_en = list(stopwords.words('english'))"
   ]
  },
  {
   "cell_type": "code",
   "execution_count": 6,
   "id": "79941d0f-de62-4725-8d29-d9e20e4179d0",
   "metadata": {},
   "outputs": [
    {
     "name": "stdout",
     "output_type": "stream",
     "text": [
      "(7895, 39455)\n"
     ]
    }
   ],
   "source": [
    "train_data_f['texto_completo'] = train_data_f['title'] + \" \" + train_data_f['plot']\n",
    "\n",
    "vector_count = CountVectorizer(\n",
    "    lowercase=True,\n",
    "    stop_words=stopwords_es + stopwords_en\n",
    ")\n",
    "\n",
    "X_count = vector_count.fit_transform(train_data_f['texto_completo'])\n",
    "\n",
    "print(X_count.shape)"
   ]
  },
  {
   "cell_type": "code",
   "execution_count": 7,
   "id": "3ebf679f-79a7-4292-82a8-31b9afa914b2",
   "metadata": {},
   "outputs": [
    {
     "name": "stdout",
     "output_type": "stream",
     "text": [
      "(7895, 39455)\n"
     ]
    }
   ],
   "source": [
    "vector_tfidf = TfidfVectorizer(\n",
    "    lowercase=True,\n",
    "    stop_words=stopwords_es + stopwords_en\n",
    ")\n",
    "\n",
    "X_tfidf = vector_tfidf.fit_transform(train_data_f['texto_completo'])\n",
    "\n",
    "print(X_tfidf.shape)"
   ]
  },
  {
   "cell_type": "code",
   "execution_count": 8,
   "id": "6f0dfe6e-ee23-4759-98e8-d93bd9c6e3b0",
   "metadata": {},
   "outputs": [],
   "source": [
    "from sklearn.linear_model import LogisticRegression\n",
    "from sklearn.model_selection import cross_val_score,KFold\n",
    "from sklearn.metrics import roc_auc_score\n",
    "from sklearn.preprocessing import MultiLabelBinarizer\n",
    "from sklearn.multiclass import OneVsRestClassifier\n",
    "from sklearn.preprocessing import StandardScaler\n",
    "import ast"
   ]
  },
  {
   "cell_type": "code",
   "execution_count": 9,
   "id": "b7de8eef-20f9-4120-a4ec-c3d0d18f866d",
   "metadata": {},
   "outputs": [],
   "source": [
    "mlb = MultiLabelBinarizer()\n",
    "y_train = mlb.fit_transform(train_data_f['generos'])"
   ]
  },
  {
   "cell_type": "code",
   "execution_count": 10,
   "id": "0f07ceb5-7f76-4ddf-8d76-8b9b94db96b7",
   "metadata": {},
   "outputs": [],
   "source": [
    "#entrenar_evaluar_cv(X, y_train, nombre):\n",
    "modelo_final = OneVsRestClassifier(LogisticRegression(max_iter=500, random_state=42))\n",
    "modelo_final.fit(X_tfidf, y_train)\n",
    "\n",
    "test_data['texto_completo'] = test_data['title'] + \" \" + test_data['plot']\n",
    "X_test_tfidf = vector_tfidf.transform(test_data['texto_completo'])\n",
    "\n",
    "y_pred_test = modelo_final.predict_proba(X_test_tfidf)"
   ]
  },
  {
   "cell_type": "code",
   "execution_count": 11,
   "id": "fd0ff4c3-8bd3-4647-8c8f-5f215a0496bf",
   "metadata": {},
   "outputs": [
    {
     "name": "stdout",
     "output_type": "stream",
     "text": [
      "Modelo guardado como 'TF-IDF.pkl'\n",
      "Vectorizador TF-IDF guardado como 'vector_tfidf.pkl'\n",
      "MultiLabelBinarizer guardado como 'mlb.pkl'\n"
     ]
    }
   ],
   "source": [
    "import joblib\n",
    "joblib.dump(modelo_final, 'TF-IDF.pkl')\n",
    "print(\"Modelo guardado como 'TF-IDF.pkl'\")\n",
    "\n",
    "joblib.dump(vector_tfidf, 'vector_tfidf.pkl')\n",
    "print(\"Vectorizador TF-IDF guardado como 'vector_tfidf.pkl'\")\n",
    "\n",
    "joblib.dump(mlb, 'mlb.pkl')\n",
    "print(\"MultiLabelBinarizer guardado como 'mlb.pkl'\")\n"
   ]
  },
  {
   "cell_type": "code",
   "execution_count": 12,
   "id": "0d8f3847-1419-4505-b75c-d21ac31f17ee",
   "metadata": {},
   "outputs": [],
   "source": [
    "loaded_model = joblib.load('TF-IDF.pkl')"
   ]
  },
  {
   "cell_type": "code",
   "execution_count": 13,
   "id": "87bc69ec-ffc7-4775-9bda-2a9e338ef260",
   "metadata": {},
   "outputs": [],
   "source": [
    "texto_ejemplo_en = \"A young detective investigates a series of mysterious murders in a small town. As he digs deeper, he discovers supernatural elements and a conspiracy that threatens the entire world.\"\n",
    "df_ejemplo = pd.DataFrame({'texto_completo': [texto_ejemplo_en]})\n",
    "X_ejemplo = vector_tfidf.transform(df_ejemplo['texto_completo'])\n",
    "y_pred_proba = loaded_model.predict_proba(X_ejemplo)\n",
    "top_n = 3\n",
    "top_indices = y_pred_proba[0].argsort()[-top_n:][::-1]\n",
    "top_probs = y_pred_proba[0][top_indices]"
   ]
  },
  {
   "cell_type": "code",
   "execution_count": 14,
   "id": "f7f77aa4-c73c-4384-a237-d0b7142a909d",
   "metadata": {},
   "outputs": [
    {
     "name": "stdout",
     "output_type": "stream",
     "text": [
      "Géneros predichos para el texto:\n",
      "1. Thriller: 68.78736094414201%\n",
      "2. Mystery: 51.901778977591306%\n",
      "3. Drama: 40.73851878797909%\n"
     ]
    }
   ],
   "source": [
    "print(\"Géneros predichos para el texto:\")\n",
    "for i, (idx, prob) in enumerate(zip(top_indices, top_probs)):\n",
    "    genero = mlb.classes_[idx]\n",
    "    print(f\"{i+1}. {genero}: {prob*100:}%\")"
   ]
  },
  {
   "cell_type": "code",
   "execution_count": null,
   "id": "0cd86e4f-f0d6-4a7f-a1cb-ef9c215b9a16",
   "metadata": {},
   "outputs": [],
   "source": []
  }
 ],
 "metadata": {
  "kernelspec": {
   "display_name": "Python 3 (ipykernel)",
   "language": "python",
   "name": "python3"
  },
  "language_info": {
   "codemirror_mode": {
    "name": "ipython",
    "version": 3
   },
   "file_extension": ".py",
   "mimetype": "text/x-python",
   "name": "python",
   "nbconvert_exporter": "python",
   "pygments_lexer": "ipython3",
   "version": "3.12.4"
  }
 },
 "nbformat": 4,
 "nbformat_minor": 5
}
